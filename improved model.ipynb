{
 "cells": [
  {
   "cell_type": "code",
   "execution_count": 1,
   "id": "hidden-highland",
   "metadata": {},
   "outputs": [],
   "source": [
    "import numpy as np\n",
    "import pandas as pd\n",
    "import matplotlib.pyplot as plt\n",
    "import seaborn as sns\n",
    "%matplotlib inline"
   ]
  },
  {
   "cell_type": "code",
   "execution_count": 2,
   "id": "characteristic-parks",
   "metadata": {},
   "outputs": [],
   "source": [
    "df = pd.read_csv('brain stroke.csv')"
   ]
  },
  {
   "cell_type": "code",
   "execution_count": 3,
   "id": "under-uncle",
   "metadata": {},
   "outputs": [
    {
     "data": {
      "text/html": [
       "<div>\n",
       "<style scoped>\n",
       "    .dataframe tbody tr th:only-of-type {\n",
       "        vertical-align: middle;\n",
       "    }\n",
       "\n",
       "    .dataframe tbody tr th {\n",
       "        vertical-align: top;\n",
       "    }\n",
       "\n",
       "    .dataframe thead th {\n",
       "        text-align: right;\n",
       "    }\n",
       "</style>\n",
       "<table border=\"1\" class=\"dataframe\">\n",
       "  <thead>\n",
       "    <tr style=\"text-align: right;\">\n",
       "      <th></th>\n",
       "      <th>id</th>\n",
       "      <th>gender</th>\n",
       "      <th>age</th>\n",
       "      <th>hypertension</th>\n",
       "      <th>heart_disease</th>\n",
       "      <th>ever_married</th>\n",
       "      <th>work_type</th>\n",
       "      <th>Residence_type</th>\n",
       "      <th>avg_glucose_level</th>\n",
       "      <th>bmi</th>\n",
       "      <th>smoking_status</th>\n",
       "      <th>stroke</th>\n",
       "    </tr>\n",
       "  </thead>\n",
       "  <tbody>\n",
       "    <tr>\n",
       "      <th>0</th>\n",
       "      <td>9046</td>\n",
       "      <td>Male</td>\n",
       "      <td>67.0</td>\n",
       "      <td>0</td>\n",
       "      <td>1</td>\n",
       "      <td>Yes</td>\n",
       "      <td>Private</td>\n",
       "      <td>Urban</td>\n",
       "      <td>228.69</td>\n",
       "      <td>36.6</td>\n",
       "      <td>formerly smoked</td>\n",
       "      <td>1</td>\n",
       "    </tr>\n",
       "    <tr>\n",
       "      <th>1</th>\n",
       "      <td>51676</td>\n",
       "      <td>Female</td>\n",
       "      <td>61.0</td>\n",
       "      <td>0</td>\n",
       "      <td>0</td>\n",
       "      <td>Yes</td>\n",
       "      <td>Self-employed</td>\n",
       "      <td>Rural</td>\n",
       "      <td>202.21</td>\n",
       "      <td>NaN</td>\n",
       "      <td>never smoked</td>\n",
       "      <td>1</td>\n",
       "    </tr>\n",
       "    <tr>\n",
       "      <th>2</th>\n",
       "      <td>31112</td>\n",
       "      <td>Male</td>\n",
       "      <td>80.0</td>\n",
       "      <td>0</td>\n",
       "      <td>1</td>\n",
       "      <td>Yes</td>\n",
       "      <td>Private</td>\n",
       "      <td>Rural</td>\n",
       "      <td>105.92</td>\n",
       "      <td>32.5</td>\n",
       "      <td>never smoked</td>\n",
       "      <td>1</td>\n",
       "    </tr>\n",
       "    <tr>\n",
       "      <th>3</th>\n",
       "      <td>60182</td>\n",
       "      <td>Female</td>\n",
       "      <td>49.0</td>\n",
       "      <td>0</td>\n",
       "      <td>0</td>\n",
       "      <td>Yes</td>\n",
       "      <td>Private</td>\n",
       "      <td>Urban</td>\n",
       "      <td>171.23</td>\n",
       "      <td>34.4</td>\n",
       "      <td>smokes</td>\n",
       "      <td>1</td>\n",
       "    </tr>\n",
       "    <tr>\n",
       "      <th>4</th>\n",
       "      <td>1665</td>\n",
       "      <td>Female</td>\n",
       "      <td>79.0</td>\n",
       "      <td>1</td>\n",
       "      <td>0</td>\n",
       "      <td>Yes</td>\n",
       "      <td>Self-employed</td>\n",
       "      <td>Rural</td>\n",
       "      <td>174.12</td>\n",
       "      <td>24.0</td>\n",
       "      <td>never smoked</td>\n",
       "      <td>1</td>\n",
       "    </tr>\n",
       "  </tbody>\n",
       "</table>\n",
       "</div>"
      ],
      "text/plain": [
       "      id  gender   age  hypertension  heart_disease ever_married  \\\n",
       "0   9046    Male  67.0             0              1          Yes   \n",
       "1  51676  Female  61.0             0              0          Yes   \n",
       "2  31112    Male  80.0             0              1          Yes   \n",
       "3  60182  Female  49.0             0              0          Yes   \n",
       "4   1665  Female  79.0             1              0          Yes   \n",
       "\n",
       "       work_type Residence_type  avg_glucose_level   bmi   smoking_status  \\\n",
       "0        Private          Urban             228.69  36.6  formerly smoked   \n",
       "1  Self-employed          Rural             202.21   NaN     never smoked   \n",
       "2        Private          Rural             105.92  32.5     never smoked   \n",
       "3        Private          Urban             171.23  34.4           smokes   \n",
       "4  Self-employed          Rural             174.12  24.0     never smoked   \n",
       "\n",
       "   stroke  \n",
       "0       1  \n",
       "1       1  \n",
       "2       1  \n",
       "3       1  \n",
       "4       1  "
      ]
     },
     "execution_count": 3,
     "metadata": {},
     "output_type": "execute_result"
    }
   ],
   "source": [
    "df.head()"
   ]
  },
  {
   "cell_type": "code",
   "execution_count": 5,
   "id": "latest-traveler",
   "metadata": {},
   "outputs": [
    {
     "data": {
      "text/plain": [
       "(5110, 12)"
      ]
     },
     "execution_count": 5,
     "metadata": {},
     "output_type": "execute_result"
    }
   ],
   "source": [
    "df.shape"
   ]
  },
  {
   "cell_type": "code",
   "execution_count": 6,
   "id": "demographic-highland",
   "metadata": {},
   "outputs": [],
   "source": [
    "mean_bmi = df['bmi'].mean()"
   ]
  },
  {
   "cell_type": "code",
   "execution_count": 7,
   "id": "vocal-floating",
   "metadata": {},
   "outputs": [],
   "source": [
    "df['bmi'] = df['bmi'].fillna(mean_bmi)"
   ]
  },
  {
   "cell_type": "code",
   "execution_count": 8,
   "id": "infectious-better",
   "metadata": {},
   "outputs": [
    {
     "data": {
      "text/plain": [
       "id                   0\n",
       "gender               0\n",
       "age                  0\n",
       "hypertension         0\n",
       "heart_disease        0\n",
       "ever_married         0\n",
       "work_type            0\n",
       "Residence_type       0\n",
       "avg_glucose_level    0\n",
       "bmi                  0\n",
       "smoking_status       0\n",
       "stroke               0\n",
       "dtype: int64"
      ]
     },
     "execution_count": 8,
     "metadata": {},
     "output_type": "execute_result"
    }
   ],
   "source": [
    "df.isnull().sum()"
   ]
  },
  {
   "cell_type": "code",
   "execution_count": 9,
   "id": "interim-keeping",
   "metadata": {},
   "outputs": [],
   "source": [
    "df2 = pd.get_dummies(df[['gender','ever_married','work_type','Residence_type','smoking_status']],drop_first=True)"
   ]
  },
  {
   "cell_type": "code",
   "execution_count": 10,
   "id": "ecological-hamburg",
   "metadata": {},
   "outputs": [
    {
     "data": {
      "text/html": [
       "<div>\n",
       "<style scoped>\n",
       "    .dataframe tbody tr th:only-of-type {\n",
       "        vertical-align: middle;\n",
       "    }\n",
       "\n",
       "    .dataframe tbody tr th {\n",
       "        vertical-align: top;\n",
       "    }\n",
       "\n",
       "    .dataframe thead th {\n",
       "        text-align: right;\n",
       "    }\n",
       "</style>\n",
       "<table border=\"1\" class=\"dataframe\">\n",
       "  <thead>\n",
       "    <tr style=\"text-align: right;\">\n",
       "      <th></th>\n",
       "      <th>gender_Male</th>\n",
       "      <th>gender_Other</th>\n",
       "      <th>ever_married_Yes</th>\n",
       "      <th>work_type_Never_worked</th>\n",
       "      <th>work_type_Private</th>\n",
       "      <th>work_type_Self-employed</th>\n",
       "      <th>work_type_children</th>\n",
       "      <th>Residence_type_Urban</th>\n",
       "      <th>smoking_status_formerly smoked</th>\n",
       "      <th>smoking_status_never smoked</th>\n",
       "      <th>smoking_status_smokes</th>\n",
       "    </tr>\n",
       "  </thead>\n",
       "  <tbody>\n",
       "    <tr>\n",
       "      <th>0</th>\n",
       "      <td>1</td>\n",
       "      <td>0</td>\n",
       "      <td>1</td>\n",
       "      <td>0</td>\n",
       "      <td>1</td>\n",
       "      <td>0</td>\n",
       "      <td>0</td>\n",
       "      <td>1</td>\n",
       "      <td>1</td>\n",
       "      <td>0</td>\n",
       "      <td>0</td>\n",
       "    </tr>\n",
       "    <tr>\n",
       "      <th>1</th>\n",
       "      <td>0</td>\n",
       "      <td>0</td>\n",
       "      <td>1</td>\n",
       "      <td>0</td>\n",
       "      <td>0</td>\n",
       "      <td>1</td>\n",
       "      <td>0</td>\n",
       "      <td>0</td>\n",
       "      <td>0</td>\n",
       "      <td>1</td>\n",
       "      <td>0</td>\n",
       "    </tr>\n",
       "    <tr>\n",
       "      <th>2</th>\n",
       "      <td>1</td>\n",
       "      <td>0</td>\n",
       "      <td>1</td>\n",
       "      <td>0</td>\n",
       "      <td>1</td>\n",
       "      <td>0</td>\n",
       "      <td>0</td>\n",
       "      <td>0</td>\n",
       "      <td>0</td>\n",
       "      <td>1</td>\n",
       "      <td>0</td>\n",
       "    </tr>\n",
       "    <tr>\n",
       "      <th>3</th>\n",
       "      <td>0</td>\n",
       "      <td>0</td>\n",
       "      <td>1</td>\n",
       "      <td>0</td>\n",
       "      <td>1</td>\n",
       "      <td>0</td>\n",
       "      <td>0</td>\n",
       "      <td>1</td>\n",
       "      <td>0</td>\n",
       "      <td>0</td>\n",
       "      <td>1</td>\n",
       "    </tr>\n",
       "    <tr>\n",
       "      <th>4</th>\n",
       "      <td>0</td>\n",
       "      <td>0</td>\n",
       "      <td>1</td>\n",
       "      <td>0</td>\n",
       "      <td>0</td>\n",
       "      <td>1</td>\n",
       "      <td>0</td>\n",
       "      <td>0</td>\n",
       "      <td>0</td>\n",
       "      <td>1</td>\n",
       "      <td>0</td>\n",
       "    </tr>\n",
       "  </tbody>\n",
       "</table>\n",
       "</div>"
      ],
      "text/plain": [
       "   gender_Male  gender_Other  ever_married_Yes  work_type_Never_worked  \\\n",
       "0            1             0                 1                       0   \n",
       "1            0             0                 1                       0   \n",
       "2            1             0                 1                       0   \n",
       "3            0             0                 1                       0   \n",
       "4            0             0                 1                       0   \n",
       "\n",
       "   work_type_Private  work_type_Self-employed  work_type_children  \\\n",
       "0                  1                        0                   0   \n",
       "1                  0                        1                   0   \n",
       "2                  1                        0                   0   \n",
       "3                  1                        0                   0   \n",
       "4                  0                        1                   0   \n",
       "\n",
       "   Residence_type_Urban  smoking_status_formerly smoked  \\\n",
       "0                     1                               1   \n",
       "1                     0                               0   \n",
       "2                     0                               0   \n",
       "3                     1                               0   \n",
       "4                     0                               0   \n",
       "\n",
       "   smoking_status_never smoked  smoking_status_smokes  \n",
       "0                            0                      0  \n",
       "1                            1                      0  \n",
       "2                            1                      0  \n",
       "3                            0                      1  \n",
       "4                            1                      0  "
      ]
     },
     "execution_count": 10,
     "metadata": {},
     "output_type": "execute_result"
    }
   ],
   "source": [
    "df2.head()"
   ]
  },
  {
   "cell_type": "code",
   "execution_count": 11,
   "id": "passing-essence",
   "metadata": {},
   "outputs": [],
   "source": [
    "df3 = pd.concat([df,df2],axis=1)"
   ]
  },
  {
   "cell_type": "code",
   "execution_count": 12,
   "id": "hybrid-founder",
   "metadata": {},
   "outputs": [
    {
     "data": {
      "text/html": [
       "<div>\n",
       "<style scoped>\n",
       "    .dataframe tbody tr th:only-of-type {\n",
       "        vertical-align: middle;\n",
       "    }\n",
       "\n",
       "    .dataframe tbody tr th {\n",
       "        vertical-align: top;\n",
       "    }\n",
       "\n",
       "    .dataframe thead th {\n",
       "        text-align: right;\n",
       "    }\n",
       "</style>\n",
       "<table border=\"1\" class=\"dataframe\">\n",
       "  <thead>\n",
       "    <tr style=\"text-align: right;\">\n",
       "      <th></th>\n",
       "      <th>id</th>\n",
       "      <th>gender</th>\n",
       "      <th>age</th>\n",
       "      <th>hypertension</th>\n",
       "      <th>heart_disease</th>\n",
       "      <th>ever_married</th>\n",
       "      <th>work_type</th>\n",
       "      <th>Residence_type</th>\n",
       "      <th>avg_glucose_level</th>\n",
       "      <th>bmi</th>\n",
       "      <th>...</th>\n",
       "      <th>gender_Other</th>\n",
       "      <th>ever_married_Yes</th>\n",
       "      <th>work_type_Never_worked</th>\n",
       "      <th>work_type_Private</th>\n",
       "      <th>work_type_Self-employed</th>\n",
       "      <th>work_type_children</th>\n",
       "      <th>Residence_type_Urban</th>\n",
       "      <th>smoking_status_formerly smoked</th>\n",
       "      <th>smoking_status_never smoked</th>\n",
       "      <th>smoking_status_smokes</th>\n",
       "    </tr>\n",
       "  </thead>\n",
       "  <tbody>\n",
       "    <tr>\n",
       "      <th>0</th>\n",
       "      <td>9046</td>\n",
       "      <td>Male</td>\n",
       "      <td>67.0</td>\n",
       "      <td>0</td>\n",
       "      <td>1</td>\n",
       "      <td>Yes</td>\n",
       "      <td>Private</td>\n",
       "      <td>Urban</td>\n",
       "      <td>228.69</td>\n",
       "      <td>36.600000</td>\n",
       "      <td>...</td>\n",
       "      <td>0</td>\n",
       "      <td>1</td>\n",
       "      <td>0</td>\n",
       "      <td>1</td>\n",
       "      <td>0</td>\n",
       "      <td>0</td>\n",
       "      <td>1</td>\n",
       "      <td>1</td>\n",
       "      <td>0</td>\n",
       "      <td>0</td>\n",
       "    </tr>\n",
       "    <tr>\n",
       "      <th>1</th>\n",
       "      <td>51676</td>\n",
       "      <td>Female</td>\n",
       "      <td>61.0</td>\n",
       "      <td>0</td>\n",
       "      <td>0</td>\n",
       "      <td>Yes</td>\n",
       "      <td>Self-employed</td>\n",
       "      <td>Rural</td>\n",
       "      <td>202.21</td>\n",
       "      <td>28.893237</td>\n",
       "      <td>...</td>\n",
       "      <td>0</td>\n",
       "      <td>1</td>\n",
       "      <td>0</td>\n",
       "      <td>0</td>\n",
       "      <td>1</td>\n",
       "      <td>0</td>\n",
       "      <td>0</td>\n",
       "      <td>0</td>\n",
       "      <td>1</td>\n",
       "      <td>0</td>\n",
       "    </tr>\n",
       "    <tr>\n",
       "      <th>2</th>\n",
       "      <td>31112</td>\n",
       "      <td>Male</td>\n",
       "      <td>80.0</td>\n",
       "      <td>0</td>\n",
       "      <td>1</td>\n",
       "      <td>Yes</td>\n",
       "      <td>Private</td>\n",
       "      <td>Rural</td>\n",
       "      <td>105.92</td>\n",
       "      <td>32.500000</td>\n",
       "      <td>...</td>\n",
       "      <td>0</td>\n",
       "      <td>1</td>\n",
       "      <td>0</td>\n",
       "      <td>1</td>\n",
       "      <td>0</td>\n",
       "      <td>0</td>\n",
       "      <td>0</td>\n",
       "      <td>0</td>\n",
       "      <td>1</td>\n",
       "      <td>0</td>\n",
       "    </tr>\n",
       "    <tr>\n",
       "      <th>3</th>\n",
       "      <td>60182</td>\n",
       "      <td>Female</td>\n",
       "      <td>49.0</td>\n",
       "      <td>0</td>\n",
       "      <td>0</td>\n",
       "      <td>Yes</td>\n",
       "      <td>Private</td>\n",
       "      <td>Urban</td>\n",
       "      <td>171.23</td>\n",
       "      <td>34.400000</td>\n",
       "      <td>...</td>\n",
       "      <td>0</td>\n",
       "      <td>1</td>\n",
       "      <td>0</td>\n",
       "      <td>1</td>\n",
       "      <td>0</td>\n",
       "      <td>0</td>\n",
       "      <td>1</td>\n",
       "      <td>0</td>\n",
       "      <td>0</td>\n",
       "      <td>1</td>\n",
       "    </tr>\n",
       "    <tr>\n",
       "      <th>4</th>\n",
       "      <td>1665</td>\n",
       "      <td>Female</td>\n",
       "      <td>79.0</td>\n",
       "      <td>1</td>\n",
       "      <td>0</td>\n",
       "      <td>Yes</td>\n",
       "      <td>Self-employed</td>\n",
       "      <td>Rural</td>\n",
       "      <td>174.12</td>\n",
       "      <td>24.000000</td>\n",
       "      <td>...</td>\n",
       "      <td>0</td>\n",
       "      <td>1</td>\n",
       "      <td>0</td>\n",
       "      <td>0</td>\n",
       "      <td>1</td>\n",
       "      <td>0</td>\n",
       "      <td>0</td>\n",
       "      <td>0</td>\n",
       "      <td>1</td>\n",
       "      <td>0</td>\n",
       "    </tr>\n",
       "  </tbody>\n",
       "</table>\n",
       "<p>5 rows × 23 columns</p>\n",
       "</div>"
      ],
      "text/plain": [
       "      id  gender   age  hypertension  heart_disease ever_married  \\\n",
       "0   9046    Male  67.0             0              1          Yes   \n",
       "1  51676  Female  61.0             0              0          Yes   \n",
       "2  31112    Male  80.0             0              1          Yes   \n",
       "3  60182  Female  49.0             0              0          Yes   \n",
       "4   1665  Female  79.0             1              0          Yes   \n",
       "\n",
       "       work_type Residence_type  avg_glucose_level        bmi  ...  \\\n",
       "0        Private          Urban             228.69  36.600000  ...   \n",
       "1  Self-employed          Rural             202.21  28.893237  ...   \n",
       "2        Private          Rural             105.92  32.500000  ...   \n",
       "3        Private          Urban             171.23  34.400000  ...   \n",
       "4  Self-employed          Rural             174.12  24.000000  ...   \n",
       "\n",
       "  gender_Other  ever_married_Yes  work_type_Never_worked  work_type_Private  \\\n",
       "0            0                 1                       0                  1   \n",
       "1            0                 1                       0                  0   \n",
       "2            0                 1                       0                  1   \n",
       "3            0                 1                       0                  1   \n",
       "4            0                 1                       0                  0   \n",
       "\n",
       "   work_type_Self-employed  work_type_children  Residence_type_Urban  \\\n",
       "0                        0                   0                     1   \n",
       "1                        1                   0                     0   \n",
       "2                        0                   0                     0   \n",
       "3                        0                   0                     1   \n",
       "4                        1                   0                     0   \n",
       "\n",
       "   smoking_status_formerly smoked  smoking_status_never smoked  \\\n",
       "0                               1                            0   \n",
       "1                               0                            1   \n",
       "2                               0                            1   \n",
       "3                               0                            0   \n",
       "4                               0                            1   \n",
       "\n",
       "   smoking_status_smokes  \n",
       "0                      0  \n",
       "1                      0  \n",
       "2                      0  \n",
       "3                      1  \n",
       "4                      0  \n",
       "\n",
       "[5 rows x 23 columns]"
      ]
     },
     "execution_count": 12,
     "metadata": {},
     "output_type": "execute_result"
    }
   ],
   "source": [
    "df3.head()"
   ]
  },
  {
   "cell_type": "code",
   "execution_count": 13,
   "id": "partial-direction",
   "metadata": {},
   "outputs": [],
   "source": [
    "df3 = df3.drop(['gender','ever_married','work_type','Residence_type','smoking_status'],axis=1)"
   ]
  },
  {
   "cell_type": "code",
   "execution_count": 14,
   "id": "placed-truck",
   "metadata": {},
   "outputs": [
    {
     "data": {
      "text/html": [
       "<div>\n",
       "<style scoped>\n",
       "    .dataframe tbody tr th:only-of-type {\n",
       "        vertical-align: middle;\n",
       "    }\n",
       "\n",
       "    .dataframe tbody tr th {\n",
       "        vertical-align: top;\n",
       "    }\n",
       "\n",
       "    .dataframe thead th {\n",
       "        text-align: right;\n",
       "    }\n",
       "</style>\n",
       "<table border=\"1\" class=\"dataframe\">\n",
       "  <thead>\n",
       "    <tr style=\"text-align: right;\">\n",
       "      <th></th>\n",
       "      <th>id</th>\n",
       "      <th>age</th>\n",
       "      <th>hypertension</th>\n",
       "      <th>heart_disease</th>\n",
       "      <th>avg_glucose_level</th>\n",
       "      <th>bmi</th>\n",
       "      <th>stroke</th>\n",
       "      <th>gender_Male</th>\n",
       "      <th>gender_Other</th>\n",
       "      <th>ever_married_Yes</th>\n",
       "      <th>work_type_Never_worked</th>\n",
       "      <th>work_type_Private</th>\n",
       "      <th>work_type_Self-employed</th>\n",
       "      <th>work_type_children</th>\n",
       "      <th>Residence_type_Urban</th>\n",
       "      <th>smoking_status_formerly smoked</th>\n",
       "      <th>smoking_status_never smoked</th>\n",
       "      <th>smoking_status_smokes</th>\n",
       "    </tr>\n",
       "  </thead>\n",
       "  <tbody>\n",
       "    <tr>\n",
       "      <th>0</th>\n",
       "      <td>9046</td>\n",
       "      <td>67.0</td>\n",
       "      <td>0</td>\n",
       "      <td>1</td>\n",
       "      <td>228.69</td>\n",
       "      <td>36.600000</td>\n",
       "      <td>1</td>\n",
       "      <td>1</td>\n",
       "      <td>0</td>\n",
       "      <td>1</td>\n",
       "      <td>0</td>\n",
       "      <td>1</td>\n",
       "      <td>0</td>\n",
       "      <td>0</td>\n",
       "      <td>1</td>\n",
       "      <td>1</td>\n",
       "      <td>0</td>\n",
       "      <td>0</td>\n",
       "    </tr>\n",
       "    <tr>\n",
       "      <th>1</th>\n",
       "      <td>51676</td>\n",
       "      <td>61.0</td>\n",
       "      <td>0</td>\n",
       "      <td>0</td>\n",
       "      <td>202.21</td>\n",
       "      <td>28.893237</td>\n",
       "      <td>1</td>\n",
       "      <td>0</td>\n",
       "      <td>0</td>\n",
       "      <td>1</td>\n",
       "      <td>0</td>\n",
       "      <td>0</td>\n",
       "      <td>1</td>\n",
       "      <td>0</td>\n",
       "      <td>0</td>\n",
       "      <td>0</td>\n",
       "      <td>1</td>\n",
       "      <td>0</td>\n",
       "    </tr>\n",
       "    <tr>\n",
       "      <th>2</th>\n",
       "      <td>31112</td>\n",
       "      <td>80.0</td>\n",
       "      <td>0</td>\n",
       "      <td>1</td>\n",
       "      <td>105.92</td>\n",
       "      <td>32.500000</td>\n",
       "      <td>1</td>\n",
       "      <td>1</td>\n",
       "      <td>0</td>\n",
       "      <td>1</td>\n",
       "      <td>0</td>\n",
       "      <td>1</td>\n",
       "      <td>0</td>\n",
       "      <td>0</td>\n",
       "      <td>0</td>\n",
       "      <td>0</td>\n",
       "      <td>1</td>\n",
       "      <td>0</td>\n",
       "    </tr>\n",
       "    <tr>\n",
       "      <th>3</th>\n",
       "      <td>60182</td>\n",
       "      <td>49.0</td>\n",
       "      <td>0</td>\n",
       "      <td>0</td>\n",
       "      <td>171.23</td>\n",
       "      <td>34.400000</td>\n",
       "      <td>1</td>\n",
       "      <td>0</td>\n",
       "      <td>0</td>\n",
       "      <td>1</td>\n",
       "      <td>0</td>\n",
       "      <td>1</td>\n",
       "      <td>0</td>\n",
       "      <td>0</td>\n",
       "      <td>1</td>\n",
       "      <td>0</td>\n",
       "      <td>0</td>\n",
       "      <td>1</td>\n",
       "    </tr>\n",
       "    <tr>\n",
       "      <th>4</th>\n",
       "      <td>1665</td>\n",
       "      <td>79.0</td>\n",
       "      <td>1</td>\n",
       "      <td>0</td>\n",
       "      <td>174.12</td>\n",
       "      <td>24.000000</td>\n",
       "      <td>1</td>\n",
       "      <td>0</td>\n",
       "      <td>0</td>\n",
       "      <td>1</td>\n",
       "      <td>0</td>\n",
       "      <td>0</td>\n",
       "      <td>1</td>\n",
       "      <td>0</td>\n",
       "      <td>0</td>\n",
       "      <td>0</td>\n",
       "      <td>1</td>\n",
       "      <td>0</td>\n",
       "    </tr>\n",
       "  </tbody>\n",
       "</table>\n",
       "</div>"
      ],
      "text/plain": [
       "      id   age  hypertension  heart_disease  avg_glucose_level        bmi  \\\n",
       "0   9046  67.0             0              1             228.69  36.600000   \n",
       "1  51676  61.0             0              0             202.21  28.893237   \n",
       "2  31112  80.0             0              1             105.92  32.500000   \n",
       "3  60182  49.0             0              0             171.23  34.400000   \n",
       "4   1665  79.0             1              0             174.12  24.000000   \n",
       "\n",
       "   stroke  gender_Male  gender_Other  ever_married_Yes  \\\n",
       "0       1            1             0                 1   \n",
       "1       1            0             0                 1   \n",
       "2       1            1             0                 1   \n",
       "3       1            0             0                 1   \n",
       "4       1            0             0                 1   \n",
       "\n",
       "   work_type_Never_worked  work_type_Private  work_type_Self-employed  \\\n",
       "0                       0                  1                        0   \n",
       "1                       0                  0                        1   \n",
       "2                       0                  1                        0   \n",
       "3                       0                  1                        0   \n",
       "4                       0                  0                        1   \n",
       "\n",
       "   work_type_children  Residence_type_Urban  smoking_status_formerly smoked  \\\n",
       "0                   0                     1                               1   \n",
       "1                   0                     0                               0   \n",
       "2                   0                     0                               0   \n",
       "3                   0                     1                               0   \n",
       "4                   0                     0                               0   \n",
       "\n",
       "   smoking_status_never smoked  smoking_status_smokes  \n",
       "0                            0                      0  \n",
       "1                            1                      0  \n",
       "2                            1                      0  \n",
       "3                            0                      1  \n",
       "4                            1                      0  "
      ]
     },
     "execution_count": 14,
     "metadata": {},
     "output_type": "execute_result"
    }
   ],
   "source": [
    "df3.head()"
   ]
  },
  {
   "cell_type": "code",
   "execution_count": 15,
   "id": "latter-gasoline",
   "metadata": {},
   "outputs": [],
   "source": [
    "data = df3.copy()"
   ]
  },
  {
   "cell_type": "code",
   "execution_count": 16,
   "id": "instrumental-messenger",
   "metadata": {},
   "outputs": [],
   "source": [
    "X = data.drop('stroke',axis=1)"
   ]
  },
  {
   "cell_type": "code",
   "execution_count": 17,
   "id": "authorized-canadian",
   "metadata": {},
   "outputs": [],
   "source": [
    "y = data['stroke']"
   ]
  },
  {
   "cell_type": "code",
   "execution_count": 18,
   "id": "close-prisoner",
   "metadata": {},
   "outputs": [],
   "source": [
    "from sklearn.model_selection import train_test_split"
   ]
  },
  {
   "cell_type": "code",
   "execution_count": 19,
   "id": "dense-voluntary",
   "metadata": {},
   "outputs": [],
   "source": [
    "X_train, X_test, y_train, y_test = train_test_split(X, y, test_size=0.3, random_state=0)"
   ]
  },
  {
   "cell_type": "code",
   "execution_count": 21,
   "id": "normal-hybrid",
   "metadata": {},
   "outputs": [
    {
     "data": {
      "text/plain": [
       "0    3404\n",
       "1     173\n",
       "Name: stroke, dtype: int64"
      ]
     },
     "execution_count": 21,
     "metadata": {},
     "output_type": "execute_result"
    }
   ],
   "source": [
    "y_train.value_counts()"
   ]
  },
  {
   "cell_type": "code",
   "execution_count": 23,
   "id": "geological-balloon",
   "metadata": {},
   "outputs": [],
   "source": [
    "from collections import Counter"
   ]
  },
  {
   "cell_type": "code",
   "execution_count": 24,
   "id": "confused-margin",
   "metadata": {},
   "outputs": [
    {
     "data": {
      "text/plain": [
       "Counter({0: 3404, 1: 173})"
      ]
     },
     "execution_count": 24,
     "metadata": {},
     "output_type": "execute_result"
    }
   ],
   "source": [
    "Counter(y_train)"
   ]
  },
  {
   "cell_type": "code",
   "execution_count": 27,
   "id": "further-agreement",
   "metadata": {},
   "outputs": [],
   "source": [
    "from imblearn.combine import SMOTETomek"
   ]
  },
  {
   "cell_type": "code",
   "execution_count": 28,
   "id": "fitted-clothing",
   "metadata": {},
   "outputs": [
    {
     "name": "stderr",
     "output_type": "stream",
     "text": [
      "C:\\Users\\lenovo\\anaconda3\\envs\\deep learning\\lib\\site-packages\\imblearn\\utils\\_validation.py:591: FutureWarning: Pass sampling_strategy=0.75 as keyword args. From version 0.9 passing these as positional arguments will result in an error\n",
      "  FutureWarning,\n"
     ]
    },
    {
     "name": "stdout",
     "output_type": "stream",
     "text": [
      "The number of classes before fit Counter({0: 3404, 1: 173})\n",
      "The number of classes after fit Counter({0: 3177, 1: 2326})\n"
     ]
    }
   ],
   "source": [
    "os=SMOTETomek(0.75)\n",
    "X_train_ns,y_train_ns=os.fit_resample(X_train,y_train)\n",
    "print(\"The number of classes before fit {}\".format(Counter(y_train)))\n",
    "print(\"The number of classes after fit {}\".format(Counter(y_train_ns)))"
   ]
  },
  {
   "cell_type": "code",
   "execution_count": 29,
   "id": "prescribed-playback",
   "metadata": {},
   "outputs": [],
   "source": [
    "from sklearn.preprocessing import MinMaxScaler"
   ]
  },
  {
   "cell_type": "code",
   "execution_count": 30,
   "id": "exclusive-jonathan",
   "metadata": {},
   "outputs": [],
   "source": [
    "mc = MinMaxScaler()"
   ]
  },
  {
   "cell_type": "code",
   "execution_count": 31,
   "id": "intellectual-mention",
   "metadata": {},
   "outputs": [],
   "source": [
    "X_train_ns = mc.fit_transform(X_train_ns)"
   ]
  },
  {
   "cell_type": "code",
   "execution_count": 32,
   "id": "improved-commitment",
   "metadata": {},
   "outputs": [],
   "source": [
    "X_test = mc.transform(X_test)"
   ]
  },
  {
   "cell_type": "code",
   "execution_count": 36,
   "id": "smooth-auction",
   "metadata": {},
   "outputs": [
    {
     "data": {
      "text/plain": [
       "(5503, 17)"
      ]
     },
     "execution_count": 36,
     "metadata": {},
     "output_type": "execute_result"
    }
   ],
   "source": [
    "X_train_ns.shape"
   ]
  },
  {
   "cell_type": "code",
   "execution_count": 33,
   "id": "productive-digit",
   "metadata": {},
   "outputs": [],
   "source": [
    "import tensorflow"
   ]
  },
  {
   "cell_type": "code",
   "execution_count": 34,
   "id": "stunning-tract",
   "metadata": {},
   "outputs": [],
   "source": [
    "from tensorflow.keras.models import Sequential\n",
    "from tensorflow.keras.layers import Dense,Dropout"
   ]
  },
  {
   "cell_type": "code",
   "execution_count": 69,
   "id": "smart-violin",
   "metadata": {},
   "outputs": [],
   "source": [
    "model = Sequential()"
   ]
  },
  {
   "cell_type": "code",
   "execution_count": 70,
   "id": "meaning-olive",
   "metadata": {},
   "outputs": [],
   "source": [
    "model.add(Dense(50,input_dim = 17,activation = 'relu', kernel_initializer='he_uniform'))\n",
    "model.add(Dropout(0.5))\n",
    "\n",
    "model.add(Dense(50,input_dim = 17,activation = 'relu', kernel_initializer='he_uniform'))\n",
    "model.add(Dropout(0.5))\n",
    "\n",
    "model.add(Dense(1,activation = 'sigmoid'))"
   ]
  },
  {
   "cell_type": "code",
   "execution_count": 71,
   "id": "organizational-center",
   "metadata": {},
   "outputs": [],
   "source": [
    "model.compile(loss='binary_crossentropy', optimizer='adam',metrics=['accuracy'])"
   ]
  },
  {
   "cell_type": "code",
   "execution_count": 72,
   "id": "shared-experiment",
   "metadata": {},
   "outputs": [
    {
     "name": "stdout",
     "output_type": "stream",
     "text": [
      "Epoch 1/100\n",
      "121/121 [==============================] - 1s 5ms/step - loss: 0.6018 - accuracy: 0.6901 - val_loss: 1.2736 - val_accuracy: 0.0242\n",
      "Epoch 2/100\n",
      "121/121 [==============================] - 1s 6ms/step - loss: 0.4003 - accuracy: 0.8378 - val_loss: 1.0682 - val_accuracy: 0.2925\n",
      "Epoch 3/100\n",
      "121/121 [==============================] - 0s 3ms/step - loss: 0.3883 - accuracy: 0.8471 - val_loss: 0.9073 - val_accuracy: 0.4609\n",
      "Epoch 4/100\n",
      "121/121 [==============================] - 0s 4ms/step - loss: 0.3382 - accuracy: 0.8616 - val_loss: 0.7997 - val_accuracy: 0.5427\n",
      "Epoch 5/100\n",
      "121/121 [==============================] - 0s 4ms/step - loss: 0.3136 - accuracy: 0.8816 - val_loss: 0.7426 - val_accuracy: 0.5790\n",
      "Epoch 6/100\n",
      "121/121 [==============================] - 0s 3ms/step - loss: 0.3359 - accuracy: 0.8643 - val_loss: 0.7619 - val_accuracy: 0.5760\n",
      "Epoch 7/100\n",
      "121/121 [==============================] - 0s 4ms/step - loss: 0.3249 - accuracy: 0.8757 - val_loss: 0.7712 - val_accuracy: 0.5712\n",
      "Epoch 8/100\n",
      "121/121 [==============================] - 1s 6ms/step - loss: 0.3346 - accuracy: 0.8599 - val_loss: 0.6720 - val_accuracy: 0.6445\n",
      "Epoch 9/100\n",
      "121/121 [==============================] - 1s 6ms/step - loss: 0.3139 - accuracy: 0.8759 - val_loss: 0.7032 - val_accuracy: 0.6245\n",
      "Epoch 10/100\n",
      "121/121 [==============================] - 1s 6ms/step - loss: 0.2993 - accuracy: 0.8847 - val_loss: 0.6866 - val_accuracy: 0.6342\n",
      "Epoch 11/100\n",
      "121/121 [==============================] - 0s 3ms/step - loss: 0.3030 - accuracy: 0.8797 - val_loss: 0.6746 - val_accuracy: 0.6439\n",
      "Epoch 12/100\n",
      "121/121 [==============================] - 0s 3ms/step - loss: 0.2880 - accuracy: 0.8926 - val_loss: 0.7058 - val_accuracy: 0.6275\n",
      "Epoch 13/100\n",
      "121/121 [==============================] - 1s 6ms/step - loss: 0.2767 - accuracy: 0.8897 - val_loss: 0.6217 - val_accuracy: 0.6717\n",
      "Epoch 14/100\n",
      "121/121 [==============================] - 1s 6ms/step - loss: 0.2749 - accuracy: 0.8850 - val_loss: 0.6447 - val_accuracy: 0.6693\n",
      "Epoch 15/100\n",
      "121/121 [==============================] - 0s 4ms/step - loss: 0.2833 - accuracy: 0.8820 - val_loss: 0.6113 - val_accuracy: 0.6826\n",
      "Epoch 16/100\n",
      "121/121 [==============================] - 0s 3ms/step - loss: 0.2613 - accuracy: 0.8950 - val_loss: 0.5973 - val_accuracy: 0.6917\n",
      "Epoch 17/100\n",
      "121/121 [==============================] - 0s 3ms/step - loss: 0.2825 - accuracy: 0.8835 - val_loss: 0.6247 - val_accuracy: 0.6760\n",
      "Epoch 18/100\n",
      "121/121 [==============================] - 1s 5ms/step - loss: 0.2760 - accuracy: 0.8864 - val_loss: 0.6494 - val_accuracy: 0.6620\n",
      "Epoch 19/100\n",
      "121/121 [==============================] - 1s 5ms/step - loss: 0.2687 - accuracy: 0.8963 - val_loss: 0.6198 - val_accuracy: 0.6808\n",
      "Epoch 20/100\n",
      "121/121 [==============================] - 1s 5ms/step - loss: 0.2628 - accuracy: 0.8908 - val_loss: 0.6509 - val_accuracy: 0.6572\n",
      "Epoch 21/100\n",
      "121/121 [==============================] - 1s 6ms/step - loss: 0.2530 - accuracy: 0.9011 - val_loss: 0.6299 - val_accuracy: 0.6681\n",
      "Epoch 22/100\n",
      "121/121 [==============================] - 1s 5ms/step - loss: 0.2383 - accuracy: 0.9015 - val_loss: 0.5680 - val_accuracy: 0.7038\n",
      "Epoch 23/100\n",
      "121/121 [==============================] - 0s 4ms/step - loss: 0.2602 - accuracy: 0.8884 - val_loss: 0.6248 - val_accuracy: 0.6784\n",
      "Epoch 24/100\n",
      "121/121 [==============================] - 1s 6ms/step - loss: 0.2661 - accuracy: 0.8890 - val_loss: 0.6415 - val_accuracy: 0.6578\n",
      "Epoch 25/100\n",
      "121/121 [==============================] - 0s 3ms/step - loss: 0.2554 - accuracy: 0.8927 - val_loss: 0.6229 - val_accuracy: 0.6584\n",
      "Epoch 26/100\n",
      "121/121 [==============================] - 0s 3ms/step - loss: 0.2533 - accuracy: 0.9009 - val_loss: 0.5541 - val_accuracy: 0.7087\n",
      "Epoch 27/100\n",
      "121/121 [==============================] - 0s 3ms/step - loss: 0.2530 - accuracy: 0.8986 - val_loss: 0.5423 - val_accuracy: 0.7159\n",
      "Epoch 28/100\n",
      "121/121 [==============================] - 0s 3ms/step - loss: 0.2552 - accuracy: 0.8940 - val_loss: 0.6119 - val_accuracy: 0.6723\n",
      "Epoch 29/100\n",
      "121/121 [==============================] - 0s 3ms/step - loss: 0.2394 - accuracy: 0.9059 - val_loss: 0.5814 - val_accuracy: 0.6947\n",
      "Epoch 30/100\n",
      "121/121 [==============================] - 0s 3ms/step - loss: 0.2427 - accuracy: 0.8971 - val_loss: 0.5749 - val_accuracy: 0.7087\n",
      "Epoch 31/100\n",
      "121/121 [==============================] - 1s 4ms/step - loss: 0.2553 - accuracy: 0.9056 - val_loss: 0.6394 - val_accuracy: 0.6541\n",
      "Epoch 32/100\n",
      "121/121 [==============================] - 0s 4ms/step - loss: 0.2681 - accuracy: 0.8854 - val_loss: 0.5629 - val_accuracy: 0.7008\n",
      "Epoch 33/100\n",
      "121/121 [==============================] - 1s 6ms/step - loss: 0.2499 - accuracy: 0.8930 - val_loss: 0.5605 - val_accuracy: 0.6996\n",
      "Epoch 34/100\n",
      "121/121 [==============================] - 1s 5ms/step - loss: 0.2550 - accuracy: 0.8926 - val_loss: 0.6083 - val_accuracy: 0.6778\n",
      "Epoch 35/100\n",
      "121/121 [==============================] - 0s 4ms/step - loss: 0.2551 - accuracy: 0.8974 - val_loss: 0.5833 - val_accuracy: 0.6959\n",
      "Epoch 36/100\n",
      "121/121 [==============================] - 1s 6ms/step - loss: 0.2461 - accuracy: 0.8989 - val_loss: 0.6073 - val_accuracy: 0.6784\n",
      "Epoch 37/100\n",
      "121/121 [==============================] - 0s 3ms/step - loss: 0.2442 - accuracy: 0.8992 - val_loss: 0.5804 - val_accuracy: 0.6990\n",
      "Epoch 38/100\n",
      "121/121 [==============================] - 0s 4ms/step - loss: 0.2439 - accuracy: 0.8955 - val_loss: 0.5715 - val_accuracy: 0.7026\n",
      "Epoch 39/100\n",
      "121/121 [==============================] - 0s 3ms/step - loss: 0.2364 - accuracy: 0.9083 - val_loss: 0.5948 - val_accuracy: 0.7038\n",
      "Epoch 40/100\n",
      "121/121 [==============================] - 1s 5ms/step - loss: 0.2483 - accuracy: 0.8941 - val_loss: 0.5370 - val_accuracy: 0.7147\n",
      "Epoch 41/100\n",
      "121/121 [==============================] - 0s 4ms/step - loss: 0.2303 - accuracy: 0.9051 - val_loss: 0.5500 - val_accuracy: 0.7153\n",
      "Epoch 42/100\n",
      "121/121 [==============================] - 1s 5ms/step - loss: 0.2341 - accuracy: 0.8989 - val_loss: 0.5503 - val_accuracy: 0.7123\n",
      "Epoch 43/100\n",
      "121/121 [==============================] - 1s 4ms/step - loss: 0.2380 - accuracy: 0.8992 - val_loss: 0.5338 - val_accuracy: 0.7274\n",
      "Epoch 44/100\n",
      "121/121 [==============================] - 1s 5ms/step - loss: 0.2320 - accuracy: 0.9007 - val_loss: 0.5813 - val_accuracy: 0.7032\n",
      "Epoch 45/100\n",
      "121/121 [==============================] - 0s 4ms/step - loss: 0.2394 - accuracy: 0.8973 - val_loss: 0.5488 - val_accuracy: 0.7165\n",
      "Epoch 46/100\n",
      "121/121 [==============================] - 1s 4ms/step - loss: 0.2438 - accuracy: 0.8963 - val_loss: 0.5618 - val_accuracy: 0.7099\n",
      "Epoch 47/100\n",
      "121/121 [==============================] - 0s 4ms/step - loss: 0.2277 - accuracy: 0.9108 - val_loss: 0.5577 - val_accuracy: 0.7117\n",
      "Epoch 48/100\n",
      "121/121 [==============================] - 1s 5ms/step - loss: 0.2429 - accuracy: 0.8984 - val_loss: 0.5591 - val_accuracy: 0.7068\n",
      "Epoch 49/100\n",
      "121/121 [==============================] - 0s 4ms/step - loss: 0.2105 - accuracy: 0.9136 - val_loss: 0.5669 - val_accuracy: 0.7032\n",
      "Epoch 50/100\n",
      "121/121 [==============================] - 0s 3ms/step - loss: 0.2251 - accuracy: 0.9039 - val_loss: 0.4870 - val_accuracy: 0.7523\n",
      "Epoch 51/100\n",
      "121/121 [==============================] - 0s 3ms/step - loss: 0.2242 - accuracy: 0.9068 - val_loss: 0.5344 - val_accuracy: 0.7317\n",
      "Epoch 52/100\n",
      "121/121 [==============================] - 0s 4ms/step - loss: 0.2242 - accuracy: 0.9044 - val_loss: 0.5367 - val_accuracy: 0.7220\n",
      "Epoch 53/100\n",
      "121/121 [==============================] - 0s 4ms/step - loss: 0.2345 - accuracy: 0.9023 - val_loss: 0.5671 - val_accuracy: 0.7093\n",
      "Epoch 54/100\n",
      "121/121 [==============================] - 1s 5ms/step - loss: 0.2247 - accuracy: 0.9133 - val_loss: 0.5333 - val_accuracy: 0.7232\n",
      "Epoch 55/100\n",
      "121/121 [==============================] - 0s 4ms/step - loss: 0.2327 - accuracy: 0.9073 - val_loss: 0.5264 - val_accuracy: 0.7286\n",
      "Epoch 56/100\n",
      "121/121 [==============================] - 0s 3ms/step - loss: 0.2412 - accuracy: 0.8989 - val_loss: 0.5592 - val_accuracy: 0.7147\n",
      "Epoch 57/100\n",
      "121/121 [==============================] - 0s 4ms/step - loss: 0.2365 - accuracy: 0.9030 - val_loss: 0.5165 - val_accuracy: 0.7323\n"
     ]
    },
    {
     "name": "stdout",
     "output_type": "stream",
     "text": [
      "Epoch 58/100\n",
      "121/121 [==============================] - 1s 5ms/step - loss: 0.2397 - accuracy: 0.8981 - val_loss: 0.5436 - val_accuracy: 0.7214\n",
      "Epoch 59/100\n",
      "121/121 [==============================] - 0s 3ms/step - loss: 0.2315 - accuracy: 0.9079 - val_loss: 0.5880 - val_accuracy: 0.6929\n",
      "Epoch 60/100\n",
      "121/121 [==============================] - 0s 3ms/step - loss: 0.2374 - accuracy: 0.8925 - val_loss: 0.5244 - val_accuracy: 0.7323\n",
      "Epoch 61/100\n",
      "121/121 [==============================] - 0s 3ms/step - loss: 0.2354 - accuracy: 0.9025 - val_loss: 0.5267 - val_accuracy: 0.7299\n",
      "Epoch 62/100\n",
      "121/121 [==============================] - 0s 4ms/step - loss: 0.2300 - accuracy: 0.8991 - val_loss: 0.5799 - val_accuracy: 0.7081\n",
      "Epoch 63/100\n",
      "121/121 [==============================] - 0s 3ms/step - loss: 0.2282 - accuracy: 0.8979 - val_loss: 0.5530 - val_accuracy: 0.7105\n",
      "Epoch 64/100\n",
      "121/121 [==============================] - 0s 3ms/step - loss: 0.2355 - accuracy: 0.9067 - val_loss: 0.6065 - val_accuracy: 0.6856\n",
      "Epoch 65/100\n",
      "121/121 [==============================] - 0s 3ms/step - loss: 0.2318 - accuracy: 0.9005 - val_loss: 0.5651 - val_accuracy: 0.7081\n",
      "Epoch 66/100\n",
      "121/121 [==============================] - 1s 5ms/step - loss: 0.2350 - accuracy: 0.9038 - val_loss: 0.5769 - val_accuracy: 0.6929\n",
      "Epoch 67/100\n",
      "121/121 [==============================] - 0s 4ms/step - loss: 0.2212 - accuracy: 0.9105 - val_loss: 0.5553 - val_accuracy: 0.7141\n",
      "Epoch 68/100\n",
      "121/121 [==============================] - 1s 5ms/step - loss: 0.2342 - accuracy: 0.9019 - val_loss: 0.5381 - val_accuracy: 0.7214\n",
      "Epoch 69/100\n",
      "121/121 [==============================] - 0s 4ms/step - loss: 0.2430 - accuracy: 0.9009 - val_loss: 0.5269 - val_accuracy: 0.7347\n",
      "Epoch 70/100\n",
      "121/121 [==============================] - 1s 4ms/step - loss: 0.2186 - accuracy: 0.9102 - val_loss: 0.5156 - val_accuracy: 0.7359\n",
      "Epoch 71/100\n",
      "121/121 [==============================] - 0s 3ms/step - loss: 0.2248 - accuracy: 0.9050 - val_loss: 0.5562 - val_accuracy: 0.7184\n",
      "Epoch 72/100\n",
      "121/121 [==============================] - 0s 3ms/step - loss: 0.2258 - accuracy: 0.9030 - val_loss: 0.5058 - val_accuracy: 0.7341\n",
      "Epoch 73/100\n",
      "121/121 [==============================] - 0s 3ms/step - loss: 0.2249 - accuracy: 0.9059 - val_loss: 0.5484 - val_accuracy: 0.7226\n",
      "Epoch 74/100\n",
      "121/121 [==============================] - 0s 3ms/step - loss: 0.2286 - accuracy: 0.9042 - val_loss: 0.5805 - val_accuracy: 0.7014\n",
      "Epoch 75/100\n",
      "121/121 [==============================] - 0s 4ms/step - loss: 0.2182 - accuracy: 0.9089 - val_loss: 0.5196 - val_accuracy: 0.7402\n",
      "Epoch 76/100\n",
      "121/121 [==============================] - 1s 5ms/step - loss: 0.2195 - accuracy: 0.9081 - val_loss: 0.5353 - val_accuracy: 0.7268\n",
      "Epoch 77/100\n",
      "121/121 [==============================] - 0s 4ms/step - loss: 0.2205 - accuracy: 0.9063 - val_loss: 0.5295 - val_accuracy: 0.7250\n",
      "Epoch 78/100\n",
      "121/121 [==============================] - 0s 3ms/step - loss: 0.2055 - accuracy: 0.9155 - val_loss: 0.5424 - val_accuracy: 0.7250\n",
      "Epoch 79/100\n",
      "121/121 [==============================] - 1s 5ms/step - loss: 0.2299 - accuracy: 0.9052 - val_loss: 0.5264 - val_accuracy: 0.7383\n",
      "Epoch 80/100\n",
      "121/121 [==============================] - 1s 6ms/step - loss: 0.2196 - accuracy: 0.9137 - val_loss: 0.5403 - val_accuracy: 0.7280\n",
      "Epoch 81/100\n",
      "121/121 [==============================] - 1s 5ms/step - loss: 0.2417 - accuracy: 0.8988 - val_loss: 0.5388 - val_accuracy: 0.7244\n",
      "Epoch 82/100\n",
      "121/121 [==============================] - 1s 5ms/step - loss: 0.2121 - accuracy: 0.9149 - val_loss: 0.5155 - val_accuracy: 0.7396\n",
      "Epoch 83/100\n",
      "121/121 [==============================] - 0s 4ms/step - loss: 0.2117 - accuracy: 0.9116 - val_loss: 0.5276 - val_accuracy: 0.7371\n",
      "Epoch 84/100\n",
      "121/121 [==============================] - 0s 3ms/step - loss: 0.2206 - accuracy: 0.9065 - val_loss: 0.5450 - val_accuracy: 0.7238\n",
      "Epoch 85/100\n",
      "121/121 [==============================] - 0s 4ms/step - loss: 0.2325 - accuracy: 0.8947 - val_loss: 0.5370 - val_accuracy: 0.7250\n",
      "Epoch 86/100\n",
      "121/121 [==============================] - 0s 3ms/step - loss: 0.2157 - accuracy: 0.9104 - val_loss: 0.5090 - val_accuracy: 0.7492\n",
      "Epoch 87/100\n",
      "121/121 [==============================] - 0s 3ms/step - loss: 0.1981 - accuracy: 0.9209 - val_loss: 0.5093 - val_accuracy: 0.7474\n",
      "Epoch 88/100\n",
      "121/121 [==============================] - 1s 5ms/step - loss: 0.2097 - accuracy: 0.9094 - val_loss: 0.5372 - val_accuracy: 0.7359\n",
      "Epoch 89/100\n",
      "121/121 [==============================] - 1s 5ms/step - loss: 0.2164 - accuracy: 0.9126 - val_loss: 0.5074 - val_accuracy: 0.7444\n",
      "Epoch 90/100\n",
      "121/121 [==============================] - 1s 5ms/step - loss: 0.1987 - accuracy: 0.9231 - val_loss: 0.5331 - val_accuracy: 0.7317\n",
      "Epoch 91/100\n",
      "121/121 [==============================] - 1s 5ms/step - loss: 0.2360 - accuracy: 0.9033 - val_loss: 0.5583 - val_accuracy: 0.7293\n",
      "Epoch 92/100\n",
      "121/121 [==============================] - 0s 3ms/step - loss: 0.2105 - accuracy: 0.9071 - val_loss: 0.5273 - val_accuracy: 0.7329\n",
      "Epoch 93/100\n",
      "121/121 [==============================] - 0s 3ms/step - loss: 0.2139 - accuracy: 0.9176 - val_loss: 0.5223 - val_accuracy: 0.7389\n",
      "Epoch 94/100\n",
      "121/121 [==============================] - 0s 3ms/step - loss: 0.2218 - accuracy: 0.9124 - val_loss: 0.5481 - val_accuracy: 0.7286\n",
      "Epoch 95/100\n",
      "121/121 [==============================] - 0s 3ms/step - loss: 0.2171 - accuracy: 0.9065 - val_loss: 0.5349 - val_accuracy: 0.7377\n",
      "Epoch 96/100\n",
      "121/121 [==============================] - 0s 3ms/step - loss: 0.2152 - accuracy: 0.9147 - val_loss: 0.5030 - val_accuracy: 0.7559\n",
      "Epoch 97/100\n",
      "121/121 [==============================] - 1s 5ms/step - loss: 0.2246 - accuracy: 0.9011 - val_loss: 0.5520 - val_accuracy: 0.7153\n",
      "Epoch 98/100\n",
      "121/121 [==============================] - 0s 3ms/step - loss: 0.2206 - accuracy: 0.9060 - val_loss: 0.5259 - val_accuracy: 0.7347\n",
      "Epoch 99/100\n",
      "121/121 [==============================] - 1s 5ms/step - loss: 0.2070 - accuracy: 0.9140 - val_loss: 0.5008 - val_accuracy: 0.7486\n",
      "Epoch 100/100\n",
      "121/121 [==============================] - 0s 3ms/step - loss: 0.2109 - accuracy: 0.9120 - val_loss: 0.5444 - val_accuracy: 0.7232\n"
     ]
    }
   ],
   "source": [
    "model_history = model.fit(X_train_ns,y_train_ns,validation_split=0.3,epochs=100)"
   ]
  },
  {
   "cell_type": "code",
   "execution_count": 73,
   "id": "great-serial",
   "metadata": {},
   "outputs": [
    {
     "data": {
      "text/plain": [
       "dict_keys(['loss', 'accuracy', 'val_loss', 'val_accuracy'])"
      ]
     },
     "execution_count": 73,
     "metadata": {},
     "output_type": "execute_result"
    }
   ],
   "source": [
    "model_history.history.keys()"
   ]
  },
  {
   "cell_type": "code",
   "execution_count": 74,
   "id": "oriental-south",
   "metadata": {},
   "outputs": [
    {
     "data": {
      "image/png": "[encoded data removed]",
      "text/plain": [
       "<Figure size 576x576 with 1 Axes>"
      ]
     },
     "metadata": {
      "needs_background": "light"
     },
     "output_type": "display_data"
    }
   ],
   "source": [
    "plt.figure(figsize=(8,8))\n",
    "plt.plot(model_history.history['accuracy'])\n",
    "plt.plot(model_history.history['val_accuracy'])\n",
    "plt.title('Model Accuracy')\n",
    "plt.ylabel('Accuracy')\n",
    "plt.xlabel('Epoch')\n",
    "plt.legend(['Train', 'Test'], loc='lower right')\n",
    "plt.show()"
   ]
  },
  {
   "cell_type": "code",
   "execution_count": 75,
   "id": "stable-raise",
   "metadata": {},
   "outputs": [
    {
     "data": {
      "image/png": "[encoded data removed]",
      "text/plain": [
       "<Figure size 576x576 with 1 Axes>"
      ]
     },
     "metadata": {
      "needs_background": "light"
     },
     "output_type": "display_data"
    }
   ],
   "source": [
    "plt.figure(figsize=(8,8))\n",
    "plt.plot(model_history.history['loss'])\n",
    "plt.plot(model_history.history['val_loss'])\n",
    "plt.title('Model Loss')\n",
    "plt.ylabel('Loss')\n",
    "plt.xlabel('Epoch')\n",
    "plt.legend(['Train', 'Test'], loc='upper right')\n",
    "plt.show()"
   ]
  },
  {
   "cell_type": "code",
   "execution_count": 76,
   "id": "forbidden-remains",
   "metadata": {},
   "outputs": [],
   "source": [
    "pred = model.predict(X_test)"
   ]
  },
  {
   "cell_type": "code",
   "execution_count": 77,
   "id": "liked-emperor",
   "metadata": {},
   "outputs": [],
   "source": [
    "pred = pred>0.5"
   ]
  },
  {
   "cell_type": "code",
   "execution_count": 88,
   "id": "metropolitan-salon",
   "metadata": {},
   "outputs": [],
   "source": [
    "from sklearn.metrics import accuracy_score,confusion_matrix"
   ]
  },
  {
   "cell_type": "code",
   "execution_count": 89,
   "id": "rubber-hospital",
   "metadata": {},
   "outputs": [
    {
     "data": {
      "text/plain": [
       "92.04174820613177"
      ]
     },
     "execution_count": 89,
     "metadata": {},
     "output_type": "execute_result"
    }
   ],
   "source": [
    "accuracy_score(y_test,pred)*100"
   ]
  },
  {
   "cell_type": "code",
   "execution_count": 90,
   "id": "threatened-desire",
   "metadata": {},
   "outputs": [
    {
     "data": {
      "text/plain": [
       "array([[1405,   52],\n",
       "       [  70,    6]], dtype=int64)"
      ]
     },
     "execution_count": 90,
     "metadata": {},
     "output_type": "execute_result"
    }
   ],
   "source": [
    "confusion_matrix(y_test,pred)"
   ]
  },
  {
   "cell_type": "code",
   "execution_count": 91,
   "id": "trained-hazard",
   "metadata": {},
   "outputs": [],
   "source": [
    "from tensorflow.keras.callbacks import EarlyStopping"
   ]
  },
  {
   "cell_type": "code",
   "execution_count": 92,
   "id": "polish-understanding",
   "metadata": {},
   "outputs": [],
   "source": [
    "early_stop = EarlyStopping(monitor='val_loss',mode='min',verbose=1,patience=20)"
   ]
  },
  {
   "cell_type": "code",
   "execution_count": 93,
   "id": "internal-memory",
   "metadata": {},
   "outputs": [],
   "source": [
    "model1 = Sequential()"
   ]
  },
  {
   "cell_type": "code",
   "execution_count": 95,
   "id": "continental-textbook",
   "metadata": {},
   "outputs": [],
   "source": [
    "model1.add(Dense(50,input_dim = 17,activation = 'relu', kernel_initializer='he_uniform'))\n",
    "model1.add(Dropout(0.5))\n",
    "\n",
    "model1.add(Dense(50,input_dim = 17,activation = 'relu', kernel_initializer='he_uniform'))\n",
    "model1.add(Dropout(0.5))\n",
    "\n",
    "model1.add(Dense(1,activation = 'sigmoid'))"
   ]
  },
  {
   "cell_type": "code",
   "execution_count": 96,
   "id": "prerequisite-seminar",
   "metadata": {},
   "outputs": [],
   "source": [
    "model1.compile(loss='binary_crossentropy', optimizer='adam',metrics=['accuracy'])"
   ]
  },
  {
   "cell_type": "code",
   "execution_count": 97,
   "id": "ethical-general",
   "metadata": {},
   "outputs": [
    {
     "name": "stdout",
     "output_type": "stream",
     "text": [
      "Epoch 1/100\n",
      "121/121 [==============================] - 0s 4ms/step - loss: 0.2213 - accuracy: 0.9091 - val_loss: 0.5076 - val_accuracy: 0.7468\n",
      "Epoch 2/100\n",
      "121/121 [==============================] - 1s 6ms/step - loss: 0.2202 - accuracy: 0.9073 - val_loss: 0.5319 - val_accuracy: 0.7347\n",
      "Epoch 3/100\n",
      "121/121 [==============================] - 0s 3ms/step - loss: 0.2166 - accuracy: 0.9174 - val_loss: 0.5163 - val_accuracy: 0.7420\n",
      "Epoch 4/100\n",
      "121/121 [==============================] - 0s 3ms/step - loss: 0.2105 - accuracy: 0.9099 - val_loss: 0.5384 - val_accuracy: 0.7359\n",
      "Epoch 5/100\n",
      "121/121 [==============================] - 0s 3ms/step - loss: 0.2173 - accuracy: 0.9112 - val_loss: 0.5584 - val_accuracy: 0.7359\n",
      "Epoch 6/100\n",
      "121/121 [==============================] - 1s 4ms/step - loss: 0.2153 - accuracy: 0.9136 - val_loss: 0.5543 - val_accuracy: 0.7305\n",
      "Epoch 7/100\n",
      "121/121 [==============================] - 1s 5ms/step - loss: 0.2174 - accuracy: 0.9133 - val_loss: 0.5229 - val_accuracy: 0.7377\n",
      "Epoch 8/100\n",
      "121/121 [==============================] - 0s 4ms/step - loss: 0.2130 - accuracy: 0.9094 - val_loss: 0.5317 - val_accuracy: 0.7323\n",
      "Epoch 9/100\n",
      "121/121 [==============================] - 1s 4ms/step - loss: 0.2058 - accuracy: 0.9187 - val_loss: 0.5193 - val_accuracy: 0.7456\n",
      "Epoch 10/100\n",
      "121/121 [==============================] - 1s 5ms/step - loss: 0.2138 - accuracy: 0.9136 - val_loss: 0.5334 - val_accuracy: 0.7402\n",
      "Epoch 11/100\n",
      "121/121 [==============================] - 0s 4ms/step - loss: 0.2135 - accuracy: 0.9110 - val_loss: 0.5027 - val_accuracy: 0.7638\n",
      "Epoch 12/100\n",
      "121/121 [==============================] - 1s 6ms/step - loss: 0.2095 - accuracy: 0.9138 - val_loss: 0.5152 - val_accuracy: 0.7517\n",
      "Epoch 13/100\n",
      "121/121 [==============================] - 0s 3ms/step - loss: 0.2101 - accuracy: 0.9115 - val_loss: 0.5134 - val_accuracy: 0.7559\n",
      "Epoch 14/100\n",
      "121/121 [==============================] - 0s 3ms/step - loss: 0.2104 - accuracy: 0.9133 - val_loss: 0.5434 - val_accuracy: 0.7335\n",
      "Epoch 15/100\n",
      "121/121 [==============================] - 1s 4ms/step - loss: 0.2111 - accuracy: 0.9138 - val_loss: 0.4838 - val_accuracy: 0.7589\n",
      "Epoch 16/100\n",
      "121/121 [==============================] - 1s 4ms/step - loss: 0.2117 - accuracy: 0.9104 - val_loss: 0.5170 - val_accuracy: 0.7492\n",
      "Epoch 17/100\n",
      "121/121 [==============================] - 1s 6ms/step - loss: 0.2113 - accuracy: 0.9138 - val_loss: 0.5517 - val_accuracy: 0.7274\n",
      "Epoch 18/100\n",
      "121/121 [==============================] - 1s 6ms/step - loss: 0.2205 - accuracy: 0.9110 - val_loss: 0.5488 - val_accuracy: 0.7268\n",
      "Epoch 19/100\n",
      "121/121 [==============================] - 1s 4ms/step - loss: 0.2061 - accuracy: 0.9185 - val_loss: 0.5578 - val_accuracy: 0.7329\n",
      "Epoch 20/100\n",
      "121/121 [==============================] - 0s 4ms/step - loss: 0.2141 - accuracy: 0.9169 - val_loss: 0.5618 - val_accuracy: 0.7232\n",
      "Epoch 21/100\n",
      "121/121 [==============================] - 0s 4ms/step - loss: 0.2109 - accuracy: 0.9146 - val_loss: 0.5137 - val_accuracy: 0.7438\n",
      "Epoch 22/100\n",
      "121/121 [==============================] - 1s 6ms/step - loss: 0.2098 - accuracy: 0.9130 - val_loss: 0.5254 - val_accuracy: 0.7396\n",
      "Epoch 23/100\n",
      "121/121 [==============================] - 0s 4ms/step - loss: 0.2084 - accuracy: 0.9130 - val_loss: 0.5710 - val_accuracy: 0.7214\n",
      "Epoch 24/100\n",
      "121/121 [==============================] - 1s 4ms/step - loss: 0.2129 - accuracy: 0.9097 - val_loss: 0.5078 - val_accuracy: 0.7511\n",
      "Epoch 25/100\n",
      "121/121 [==============================] - 0s 4ms/step - loss: 0.2099 - accuracy: 0.9167 - val_loss: 0.5119 - val_accuracy: 0.7535\n",
      "Epoch 26/100\n",
      "121/121 [==============================] - 0s 3ms/step - loss: 0.2055 - accuracy: 0.9136 - val_loss: 0.5521 - val_accuracy: 0.7335\n",
      "Epoch 27/100\n",
      "121/121 [==============================] - 0s 2ms/step - loss: 0.2101 - accuracy: 0.9169 - val_loss: 0.5139 - val_accuracy: 0.7505\n",
      "Epoch 28/100\n",
      "121/121 [==============================] - 0s 2ms/step - loss: 0.2077 - accuracy: 0.9172 - val_loss: 0.5208 - val_accuracy: 0.7408\n",
      "Epoch 29/100\n",
      "121/121 [==============================] - 0s 2ms/step - loss: 0.2067 - accuracy: 0.9169 - val_loss: 0.5233 - val_accuracy: 0.7462\n",
      "Epoch 30/100\n",
      "121/121 [==============================] - 0s 3ms/step - loss: 0.2058 - accuracy: 0.9185 - val_loss: 0.4797 - val_accuracy: 0.7783\n",
      "Epoch 31/100\n",
      "121/121 [==============================] - 0s 4ms/step - loss: 0.1992 - accuracy: 0.9172 - val_loss: 0.5334 - val_accuracy: 0.7523\n",
      "Epoch 32/100\n",
      "121/121 [==============================] - 0s 3ms/step - loss: 0.2128 - accuracy: 0.9146 - val_loss: 0.5655 - val_accuracy: 0.7262\n",
      "Epoch 33/100\n",
      "121/121 [==============================] - 1s 5ms/step - loss: 0.2079 - accuracy: 0.9141 - val_loss: 0.5342 - val_accuracy: 0.7408\n",
      "Epoch 34/100\n",
      "121/121 [==============================] - 0s 3ms/step - loss: 0.2006 - accuracy: 0.9187 - val_loss: 0.4995 - val_accuracy: 0.7638\n",
      "Epoch 35/100\n",
      "121/121 [==============================] - 0s 3ms/step - loss: 0.2056 - accuracy: 0.9146 - val_loss: 0.5317 - val_accuracy: 0.7480\n",
      "Epoch 36/100\n",
      "121/121 [==============================] - 0s 4ms/step - loss: 0.2052 - accuracy: 0.9154 - val_loss: 0.5304 - val_accuracy: 0.7517\n",
      "Epoch 37/100\n",
      "121/121 [==============================] - 0s 3ms/step - loss: 0.2084 - accuracy: 0.9141 - val_loss: 0.5271 - val_accuracy: 0.7492\n",
      "Epoch 38/100\n",
      "121/121 [==============================] - 1s 5ms/step - loss: 0.2021 - accuracy: 0.9164 - val_loss: 0.5003 - val_accuracy: 0.7662\n",
      "Epoch 39/100\n",
      "121/121 [==============================] - 1s 5ms/step - loss: 0.2111 - accuracy: 0.9180 - val_loss: 0.5445 - val_accuracy: 0.7408\n",
      "Epoch 40/100\n",
      "121/121 [==============================] - ETA: 0s - loss: 0.2048 - accuracy: 0.91 - 0s 3ms/step - loss: 0.2068 - accuracy: 0.9159 - val_loss: 0.5127 - val_accuracy: 0.7498\n",
      "Epoch 41/100\n",
      "121/121 [==============================] - 1s 5ms/step - loss: 0.1993 - accuracy: 0.9141 - val_loss: 0.5329 - val_accuracy: 0.7492\n",
      "Epoch 42/100\n",
      "121/121 [==============================] - 0s 4ms/step - loss: 0.2033 - accuracy: 0.9167 - val_loss: 0.5486 - val_accuracy: 0.7396\n",
      "Epoch 43/100\n",
      "121/121 [==============================] - 0s 4ms/step - loss: 0.2023 - accuracy: 0.9164 - val_loss: 0.5186 - val_accuracy: 0.7529\n",
      "Epoch 44/100\n",
      "121/121 [==============================] - 0s 3ms/step - loss: 0.2031 - accuracy: 0.9182 - val_loss: 0.4929 - val_accuracy: 0.7608\n",
      "Epoch 45/100\n",
      "121/121 [==============================] - 0s 4ms/step - loss: 0.2060 - accuracy: 0.9138 - val_loss: 0.5626 - val_accuracy: 0.7280\n",
      "Epoch 46/100\n",
      "121/121 [==============================] - 0s 4ms/step - loss: 0.2087 - accuracy: 0.9138 - val_loss: 0.5198 - val_accuracy: 0.7529\n",
      "Epoch 47/100\n",
      "121/121 [==============================] - 0s 4ms/step - loss: 0.2024 - accuracy: 0.9198 - val_loss: 0.5028 - val_accuracy: 0.7674\n",
      "Epoch 48/100\n",
      "121/121 [==============================] - 0s 3ms/step - loss: 0.2100 - accuracy: 0.9138 - val_loss: 0.5444 - val_accuracy: 0.7396\n",
      "Epoch 49/100\n",
      "121/121 [==============================] - 0s 4ms/step - loss: 0.2057 - accuracy: 0.9133 - val_loss: 0.5311 - val_accuracy: 0.7474\n",
      "Epoch 50/100\n",
      "121/121 [==============================] - 1s 5ms/step - loss: 0.2024 - accuracy: 0.9154 - val_loss: 0.5073 - val_accuracy: 0.7662\n",
      "Epoch 00050: early stopping\n"
     ]
    }
   ],
   "source": [
    "model1_history = model.fit(X_train_ns,y_train_ns,validation_split=0.3,epochs=100,callbacks=[early_stop])"
   ]
  },
  {
   "cell_type": "code",
   "execution_count": 99,
   "id": "aerial-intro",
   "metadata": {},
   "outputs": [
    {
     "data": {
      "text/plain": [
       "dict_keys(['loss', 'accuracy', 'val_loss', 'val_accuracy'])"
      ]
     },
     "execution_count": 99,
     "metadata": {},
     "output_type": "execute_result"
    }
   ],
   "source": [
    "model1_history.history.keys()"
   ]
  },
  {
   "cell_type": "code",
   "execution_count": 100,
   "id": "choice-delay",
   "metadata": {},
   "outputs": [
    {
     "data": {
      "image/png": "[encoded data removed]",
      "text/plain": [
       "<Figure size 576x576 with 1 Axes>"
      ]
     },
     "metadata": {
      "needs_background": "light"
     },
     "output_type": "display_data"
    }
   ],
   "source": [
    "plt.figure(figsize=(8,8))\n",
    "plt.plot(model1_history.history['accuracy'])\n",
    "plt.plot(model1_history.history['val_accuracy'])\n",
    "plt.title('Model Accuracy')\n",
    "plt.ylabel('Accuracy')\n",
    "plt.xlabel('Epoch')\n",
    "plt.legend(['Train', 'Test'], loc='lower right')\n",
    "plt.show()"
   ]
  },
  {
   "cell_type": "code",
   "execution_count": 105,
   "id": "coastal-seminar",
   "metadata": {},
   "outputs": [
    {
     "data": {
      "text/plain": [
       "0.5048923679060665"
      ]
     },
     "execution_count": 105,
     "metadata": {},
     "output_type": "execute_result"
    }
   ],
   "source": [
    "accuracy_score(y_test,y_pred)"
   ]
  }
 ],
 "metadata": {
  "kernelspec": {
   "display_name": "Python 3",
   "language": "python",
   "name": "python3"
  },
  "language_info": {
   "codemirror_mode": {
    "name": "ipython",
    "version": 3
   },
   "file_extension": ".py",
   "mimetype": "text/x-python",
   "name": "python",
   "nbconvert_exporter": "python",
   "pygments_lexer": "ipython3",
   "version": "3.7.9"
  }
 },
 "nbformat": 4,
 "nbformat_minor": 5
}
